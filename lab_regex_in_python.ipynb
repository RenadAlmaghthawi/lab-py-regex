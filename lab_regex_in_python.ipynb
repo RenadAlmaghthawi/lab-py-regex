{
  "cells": [
    {
      "cell_type": "markdown",
      "metadata": {
        "id": "_HM4hDJux4kz"
      },
      "source": [
        "# LAB | Regular Expressions (Regex) in Python"
      ]
    },
    {
      "cell_type": "markdown",
      "metadata": {
        "id": "UahilQudx4k0"
      },
      "source": [
        "## Overview\n",
        "This exercise notebook will help you practice using regular expressions in Python. Regular expressions are powerful tools for matching patterns in strings, which can be useful for validation, searching, and data manipulation.\n",
        "\n",
        "## Instructions\n",
        "- Complete each exercise by writing the appropriate regex pattern and Python code in the provided space.\n",
        "- Test your code to ensure it works as expected.\n",
        "<!-- - Use the hints provided if you get stuck. -->"
      ]
    },
    {
      "cell_type": "markdown",
      "metadata": {
        "id": "vNKKPjY9x4k0"
      },
      "source": [
        "### Exercise 1: Match Email Addresses\n",
        "Write a regex pattern to match valid email addresses. An email address should contain an '@' symbol and a domain."
      ]
    },
    {
      "cell_type": "code",
      "execution_count": 1,
      "metadata": {
        "colab": {
          "base_uri": "https://localhost:8080/"
        },
        "id": "p6ia_J6jx4k1",
        "outputId": "f0f26ec0-adc5-4fce-a3ef-f083b0c7ff78"
      },
      "outputs": [
        {
          "output_type": "stream",
          "name": "stdout",
          "text": [
            "Valid email\n"
          ]
        }
      ],
      "source": [
        "import re\n",
        "\n",
        "# Example input\n",
        "email = \"example@example.com\"\n",
        "\n",
        "# Your regex pattern here\n",
        "pattern = r\"[a-zA-Z]+@[a-zA-Z.]\"\n",
        "\n",
        "# Test the regex\n",
        "if re.match(pattern, email):\n",
        "    print(\"Valid email\")\n",
        "else:\n",
        "    print(\"Invalid email\")"
      ]
    },
    {
      "cell_type": "markdown",
      "metadata": {
        "id": "QLPcn3cdx4k1"
      },
      "source": [
        "### Exercise 2: Validate Phone Numbers\n",
        "Create a regex pattern to validate phone numbers in the format (123) 456-7890 or 123-456-7890."
      ]
    },
    {
      "cell_type": "code",
      "execution_count": 7,
      "metadata": {
        "colab": {
          "base_uri": "https://localhost:8080/"
        },
        "id": "bC7zw9EWx4k1",
        "outputId": "1d7f63bd-392b-413e-fd5d-80c32efc2bfd"
      },
      "outputs": [
        {
          "output_type": "stream",
          "name": "stdout",
          "text": [
            "Valid phone number\n"
          ]
        }
      ],
      "source": [
        "import re\n",
        "\n",
        "# Example input\n",
        "phone_number = \"(123) 456-7890\"\n",
        "\n",
        "# Your regex pattern here\n",
        "pattern = r\"\\(\\d{3}\\)[-\\s]\\d{3}[-\\s]\\d{4}|\\d{3}-\\d{3}-\\d{4}\"\n",
        "\n",
        "# Test the regex\n",
        "if re.match(pattern, phone_number):\n",
        "    print(\"Valid phone number\")\n",
        "else:\n",
        "    print(\"Invalid phone number\")"
      ]
    },
    {
      "cell_type": "markdown",
      "metadata": {
        "id": "Wn6lCdBHx4k2"
      },
      "source": [
        "### Exercise 3: Extract Dates\n",
        "Write a regex pattern to extract dates in the format YYYY-MM-DD from a string."
      ]
    },
    {
      "cell_type": "code",
      "execution_count": 8,
      "metadata": {
        "colab": {
          "base_uri": "https://localhost:8080/"
        },
        "id": "L9j5TXr4x4k2",
        "outputId": "c259036b-cf11-4bd9-e5ab-69213f3b6d9a"
      },
      "outputs": [
        {
          "output_type": "stream",
          "name": "stdout",
          "text": [
            "['2024-12-25']\n"
          ]
        }
      ],
      "source": [
        "import re\n",
        "\n",
        "# Example input\n",
        "text = \"The event is scheduled for 2024-12-25.\"\n",
        "\n",
        "# Your regex pattern here\n",
        "pattern = r\"\\d{4}[-]\\d{1,2}[-]\\d{1,2}\"\n",
        "\n",
        "# Find all matches\n",
        "dates = re.findall(pattern, text)\n",
        "print(dates)"
      ]
    },
    {
      "cell_type": "markdown",
      "metadata": {
        "id": "IlssVFjlx4k2"
      },
      "source": [
        "### Exercise 4: Match URLs\n",
        "Create a regex pattern to match URLs that start with http:// or https://."
      ]
    },
    {
      "cell_type": "code",
      "execution_count": 20,
      "metadata": {
        "colab": {
          "base_uri": "https://localhost:8080/"
        },
        "id": "FkXU1xKnx4k2",
        "outputId": "96f4ea81-6093-44a3-cb01-6e6078635e6e"
      },
      "outputs": [
        {
          "output_type": "stream",
          "name": "stdout",
          "text": [
            "Valid URL\n"
          ]
        }
      ],
      "source": [
        "import re\n",
        "\n",
        "# Example input\n",
        "url = \"https://www.example.com\"\n",
        "\n",
        "# Your regex pattern here\n",
        "pattern = r\"^(https?://)(www\\.)?[a-zA-Z0-9.-]+\\.[a-zA-Z]{2,}(/.*)?$\"\n",
        "\n",
        "# Test the regex\n",
        "if re.match(pattern, url):\n",
        "    print(\"Valid URL\")\n",
        "else:\n",
        "    print(\"Invalid URL\")"
      ]
    },
    {
      "cell_type": "markdown",
      "metadata": {
        "id": "4IMM32Pox4k2"
      },
      "source": [
        "### Exercise 5: Find Words Starting with a Specific Letter\n",
        "Write a regex pattern to find all words starting with the letter 'a' in a given string."
      ]
    },
    {
      "cell_type": "code",
      "execution_count": 25,
      "metadata": {
        "colab": {
          "base_uri": "https://localhost:8080/"
        },
        "id": "do4FJT4Bx4k2",
        "outputId": "74575a49-766e-4d9d-bd18-78314795c13a"
      },
      "outputs": [
        {
          "output_type": "stream",
          "name": "stdout",
          "text": [
            "['A', 'a']\n"
          ]
        }
      ],
      "source": [
        "import re\n",
        "\n",
        "# Example input\n",
        "text = \"A quick brown fox jumps over a lazy dog.\"\n",
        "\n",
        "# Your regex pattern here\n",
        "pattern = r\"\\b[aA]\"\n",
        "\n",
        "# Find all matches\n",
        "words = re.findall(pattern, text)\n",
        "print(words)"
      ]
    },
    {
      "cell_type": "markdown",
      "metadata": {
        "id": "ShJcilZvx4k2"
      },
      "source": [
        "### Exercise 6: Match Hexadecimal Colors\n",
        "Create a regex pattern to match hexadecimal color codes (e.g., #FFFFFF)."
      ]
    },
    {
      "cell_type": "code",
      "execution_count": 27,
      "metadata": {
        "colab": {
          "base_uri": "https://localhost:8080/"
        },
        "id": "F4-kf9PQx4k2",
        "outputId": "24e0f33b-876c-41ab-c4ae-422b288e95ed"
      },
      "outputs": [
        {
          "output_type": "stream",
          "name": "stdout",
          "text": [
            "Valid hex color code\n"
          ]
        }
      ],
      "source": [
        "import re\n",
        "\n",
        "# Example input\n",
        "color_code = \"#FFFFFF\"\n",
        "\n",
        "# Your regex pattern here\n",
        "pattern = r\"^#([A-Fa-f0-9]{6})$\"\n",
        "\n",
        "# Test the regex\n",
        "if re.match(pattern, color_code):\n",
        "    print(\"Valid hex color code\")\n",
        "else:\n",
        "    print(\"Invalid hex color code\")"
      ]
    },
    {
      "cell_type": "markdown",
      "metadata": {
        "id": "qzwXu2_mx4k2"
      },
      "source": [
        "### Exercise 7: Validate Passwords\n",
        "Write a regex pattern to validate passwords that must be at least 8 characters long and contain at least one uppercase letter, one lowercase letter, one digit, and one special character."
      ]
    },
    {
      "cell_type": "code",
      "execution_count": 35,
      "metadata": {
        "colab": {
          "base_uri": "https://localhost:8080/"
        },
        "id": "h_LcCoHQx4k3",
        "outputId": "bc82deb2-cc78-4dad-b111-c5c8eb0f55dc"
      },
      "outputs": [
        {
          "output_type": "stream",
          "name": "stdout",
          "text": [
            "Valid password\n"
          ]
        }
      ],
      "source": [
        "import re\n",
        "\n",
        "# Example input\n",
        "password = \"Password123!\"\n",
        "\n",
        "# Your regex pattern here\n",
        "pattern = r\"^(?=.*[A-Z])(?=.*[a-z])(?=.*\\d)(?=.*[!@#$%^&*])[A-Za-z\\d@#$%^&*!]{8,}$\"\n",
        "\n",
        "# Test the regex\n",
        "if re.match(pattern, password):\n",
        "    print(\"Valid password\")\n",
        "else:\n",
        "    print(\"Invalid password\")"
      ]
    },
    {
      "cell_type": "markdown",
      "metadata": {
        "id": "E29BXlIGx4k3"
      },
      "source": [
        "### Exercise 8: Remove Extra Spaces\n",
        "Create a regex pattern that removes extra spaces from a string while keeping single spaces between words."
      ]
    },
    {
      "cell_type": "code",
      "execution_count": 42,
      "metadata": {
        "colab": {
          "base_uri": "https://localhost:8080/"
        },
        "id": "8Qo03c6Xx4k3",
        "outputId": "b04cc337-2b93-4933-b73a-1292e938a724"
      },
      "outputs": [
        {
          "output_type": "stream",
          "name": "stdout",
          "text": [
            "This is an example.\n"
          ]
        }
      ],
      "source": [
        "import re\n",
        "\n",
        "# Example input\n",
        "text = \"This   is   an   example.\"\n",
        "\n",
        "# Your regex pattern here\n",
        "pattern = r\"\\s \"\n",
        "\n",
        "# Replace extra spaces\n",
        "cleaned_text = re.sub(pattern, \"\", text)\n",
        "print(cleaned_text)"
      ]
    },
    {
      "cell_type": "markdown",
      "metadata": {
        "id": "jFa-TmMFx4k3"
      },
      "source": [
        "### Exercise 9: Match IP Addresses\n",
        "Write a regex pattern to match valid IPv4 addresses."
      ]
    },
    {
      "cell_type": "code",
      "execution_count": 44,
      "metadata": {
        "colab": {
          "base_uri": "https://localhost:8080/"
        },
        "id": "8W3js_AZx4k3",
        "outputId": "001c1447-1956-4fe4-de06-69fb1e1b7f19"
      },
      "outputs": [
        {
          "output_type": "stream",
          "name": "stdout",
          "text": [
            "Valid IP address\n"
          ]
        }
      ],
      "source": [
        "import re\n",
        "\n",
        "# Example input\n",
        "ip_address = \"192.168.1.1\"\n",
        "\n",
        "# Your regex pattern here\n",
        "pattern = r\"\\d{3}\\.\\d{3}\\.\\d{1}\\.\\d{1}\"\n",
        "\n",
        "# Test the regex\n",
        "if re.match(pattern, ip_address):\n",
        "    print(\"Valid IP address\")\n",
        "else:\n",
        "    print(\"Invalid IP address\")"
      ]
    },
    {
      "cell_type": "markdown",
      "metadata": {
        "id": "EOd27H4-x4k3"
      },
      "source": [
        "### Exercise 10: Extract Hashtags\n",
        "Create a regex pattern to extract hashtags from a string."
      ]
    },
    {
      "cell_type": "code",
      "execution_count": 48,
      "metadata": {
        "colab": {
          "base_uri": "https://localhost:8080/"
        },
        "id": "yXp6aG1jx4k3",
        "outputId": "d753ee25-7e67-4a60-efea-c4a436325445"
      },
      "outputs": [
        {
          "output_type": "stream",
          "name": "stdout",
          "text": [
            "['#Python', '#Regex', '#Coding']\n"
          ]
        }
      ],
      "source": [
        "import re\n",
        "\n",
        "# Example input\n",
        "text = \"Here are some hashtags: #Python #Regex #Coding.\"\n",
        "\n",
        "# Your regex pattern here\n",
        "pattern = r\"#\\w+\"\n",
        "\n",
        "# Find all matches\n",
        "hashtags = re.findall(pattern, text)\n",
        "print(hashtags)"
      ]
    },
    {
      "cell_type": "markdown",
      "metadata": {
        "id": "2vsZ_cbAx4k3"
      },
      "source": [
        "## Bonus Exercises\n"
      ]
    },
    {
      "cell_type": "markdown",
      "metadata": {
        "id": "d-lKQW3-x4k3"
      },
      "source": [
        "\n",
        "### Bonus Exercise 1: Match All Digits\n",
        "Write a regex pattern to match all digits in a given string."
      ]
    },
    {
      "cell_type": "code",
      "execution_count": 49,
      "metadata": {
        "colab": {
          "base_uri": "https://localhost:8080/"
        },
        "id": "4nqF1wQ8x4k3",
        "outputId": "a3b3188b-6ebe-4450-858a-2fd84159ae0b"
      },
      "outputs": [
        {
          "output_type": "stream",
          "name": "stdout",
          "text": [
            "['2', '3']\n"
          ]
        }
      ],
      "source": [
        "import re\n",
        "\n",
        "# Example input\n",
        "text = \"There are 2 apples and 3 oranges.\"\n",
        "\n",
        "# Your regex pattern here\n",
        "pattern = r\"\\d\"\n",
        "\n",
        "# Find all matches\n",
        "digits = re.findall(pattern, text)\n",
        "print(digits)"
      ]
    },
    {
      "cell_type": "markdown",
      "metadata": {
        "id": "DVzrtEFdx4k3"
      },
      "source": [
        "### Bonus Exercise 2: Validate Credit Card Numbers  \n",
        "Create a regex pattern to validate credit card numbers (16 digits)."
      ]
    },
    {
      "cell_type": "code",
      "execution_count": 50,
      "metadata": {
        "colab": {
          "base_uri": "https://localhost:8080/"
        },
        "id": "QRoO3AXKx4k3",
        "outputId": "1b3deec2-e499-4f88-dc0b-5ea426eeb8d0"
      },
      "outputs": [
        {
          "output_type": "stream",
          "name": "stdout",
          "text": [
            "Valid credit card number\n"
          ]
        }
      ],
      "source": [
        "import re\n",
        "\n",
        "# Example input\n",
        "credit_card_number = \"1234-5678-9876-5432\"\n",
        "\n",
        "# Your regex pattern here\n",
        "pattern = r\"\\d{4}-\\d{4}-\\d{4}-\\d{4}\"\n",
        "\n",
        "# Test the regex\n",
        "if re.match(pattern, credit_card_number):\n",
        "    print(\"Valid credit card number\")\n",
        "else:\n",
        "    print(\"Invalid credit card number\")"
      ]
    },
    {
      "cell_type": "markdown",
      "metadata": {
        "id": "oFpTzgbJx4k3"
      },
      "source": [
        "### Bonus Exercise 3: Match Non-Alphanumeric Characters  \n",
        "Write a regex pattern to match non-alphanumeric characters in a string."
      ]
    },
    {
      "cell_type": "code",
      "execution_count": 55,
      "metadata": {
        "colab": {
          "base_uri": "https://localhost:8080/"
        },
        "id": "MeRiV59Hx4k3",
        "outputId": "5f86e971-4643-4dc9-d99c-9acbe3f07253"
      },
      "outputs": [
        {
          "output_type": "stream",
          "name": "stdout",
          "text": [
            "['!', ' ', ' ', ' ', '?', ' ', '@', '.']\n"
          ]
        }
      ],
      "source": [
        "import re\n",
        "\n",
        "# Example input\n",
        "text = \"Hello! How are you? @Python3.\"\n",
        "\n",
        "# Your regex pattern here\n",
        "pattern =  r\"[^a-zA-Z0-9]\"\n",
        "\n",
        "# Find all matches\n",
        "non_alphanumeric_chars = re.findall(pattern, text)\n",
        "print(non_alphanumeric_chars)"
      ]
    },
    {
      "cell_type": "markdown",
      "metadata": {
        "id": "5DMjIw1dx4k4"
      },
      "source": [
        "### Bonus Exercise 4: Validate Date Format  \n",
        "Create a regex pattern to validate dates in the format DD/MM/YYYY."
      ]
    },
    {
      "cell_type": "code",
      "execution_count": 57,
      "metadata": {
        "colab": {
          "base_uri": "https://localhost:8080/"
        },
        "id": "6Xwgte3Ox4k4",
        "outputId": "8a22b23b-114a-4631-c368-83a02ee35801"
      },
      "outputs": [
        {
          "output_type": "stream",
          "name": "stdout",
          "text": [
            "Valid date format\n"
          ]
        }
      ],
      "source": [
        "import re\n",
        "\n",
        "# Example input\n",
        "date_string = \"25/12/2024\"\n",
        "\n",
        "# Your regex pattern here\n",
        "pattern = r\"^\\d{2}/\\d{2}/\\d{4}$\"\n",
        "\n",
        "# Test the regex\n",
        "if re.match(pattern, date_string):\n",
        "    print(\"Valid date format\")\n",
        "else:\n",
        "    print(\"Invalid date format\")"
      ]
    },
    {
      "cell_type": "markdown",
      "metadata": {
        "id": "cCHbOqgvx4k4"
      },
      "source": [
        "### Bonus Exercise 5: Extract Email Domains  \n",
        "Write a regex pattern to extract domains from email addresses."
      ]
    },
    {
      "cell_type": "code",
      "execution_count": 58,
      "metadata": {
        "colab": {
          "base_uri": "https://localhost:8080/"
        },
        "id": "KRpdUlhfx4k4",
        "outputId": "fee6c6b7-8da6-4e41-b093-d11b89dd7f2a"
      },
      "outputs": [
        {
          "output_type": "stream",
          "name": "stdout",
          "text": [
            "<re.Match object; span=(5, 16), match='example.com'>\n",
            "<re.Match object; span=(6, 16), match='domain.org'>\n"
          ]
        }
      ],
      "source": [
        "import re\n",
        "\n",
        "# Example input\n",
        "email_list = [\"user@example.com\", \"admin@domain.org\"]\n",
        "\n",
        "# Your regex pattern here\n",
        "pattern = r\"(?<=@)(\\S+)\"\n",
        "\n",
        "for email in email_list:\n",
        "    domain = re.search(pattern, email)\n",
        "    if domain:\n",
        "        print(domain)  # Print extracted domain part."
      ]
    },
    {
      "cell_type": "markdown",
      "metadata": {
        "id": "XzVaQ_50x4k5"
      },
      "source": [
        "### Exercise Completion  \n",
        "Once you have completed all exercises:\n",
        "- Review your solutions.\n",
        "- Ensure your regular expressions and Python code are well-documented with comments explaining your logic.\n",
        "- Save your notebook for submission or further review.\n",
        "\n",
        "Happy coding! Enjoy practicing Regular Expressions in Python!"
      ]
    }
  ],
  "metadata": {
    "kernelspec": {
      "display_name": ".venv",
      "language": "python",
      "name": "python3"
    },
    "language_info": {
      "codemirror_mode": {
        "name": "ipython",
        "version": 3
      },
      "file_extension": ".py",
      "mimetype": "text/x-python",
      "name": "python",
      "nbconvert_exporter": "python",
      "pygments_lexer": "ipython3",
      "version": "3.8.0"
    },
    "colab": {
      "provenance": []
    }
  },
  "nbformat": 4,
  "nbformat_minor": 0
}